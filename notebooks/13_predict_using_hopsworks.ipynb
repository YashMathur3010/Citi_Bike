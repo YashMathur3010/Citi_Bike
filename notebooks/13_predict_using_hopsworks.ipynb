{
 "cells": [
  {
   "cell_type": "code",
   "execution_count": 34,
   "id": "15c55900",
   "metadata": {},
   "outputs": [
    {
     "name": "stdout",
     "output_type": "stream",
     "text": [
      "The autoreload extension is already loaded. To reload it, use:\n",
      "  %reload_ext autoreload\n"
     ]
    }
   ],
   "source": [
    "%load_ext autoreload\n",
    "%autoreload 2"
   ]
  },
  {
   "cell_type": "code",
   "execution_count": 35,
   "id": "3ad6e09d",
   "metadata": {},
   "outputs": [],
   "source": [
    "# Show all output for a cell\n",
    "from IPython.core.interactiveshell import InteractiveShell\n",
    "InteractiveShell.ast_node_interactivity = \"all\""
   ]
  },
  {
   "cell_type": "code",
   "execution_count": 36,
   "id": "eedf26ca",
   "metadata": {},
   "outputs": [],
   "source": [
    "import sys\n",
    "import os\n",
    "\n",
    "# Add the parent directory to the Python path\n",
    "sys.path.append(os.path.abspath(os.path.join(os.getcwd(), \"..\")))\n",
    "import src.config as config"
   ]
  },
  {
   "cell_type": "code",
   "execution_count": 37,
   "id": "e7512d17",
   "metadata": {},
   "outputs": [],
   "source": [
    "from src.inference import get_feature_store"
   ]
  },
  {
   "cell_type": "code",
   "execution_count": 38,
   "id": "8cf994e1",
   "metadata": {},
   "outputs": [
    {
     "name": "stdout",
     "output_type": "stream",
     "text": [
      "2025-05-11 10:16:44,480 INFO: Closing external client and cleaning up certificates.\n",
      "Connection closed.\n",
      "2025-05-11 10:16:44,505 INFO: Initializing external client\n",
      "2025-05-11 10:16:44,506 INFO: Base URL: https://c.app.hopsworks.ai:443\n",
      "2025-05-11 10:16:45,124 INFO: Python Engine initialized.\n",
      "\n",
      "Logged in to project, explore it here https://c.app.hopsworks.ai:443/p/1231009\n",
      "Fetching data from 2025-04-01 14:16:44.479502+00:00 to 2025-05-11 13:16:44.479502+00:00\n",
      "Finished: Reading data from Hopsworks, using Hopsworks Feature Query Service (0.57s) \n"
     ]
    }
   ],
   "source": [
    "from datetime import datetime, timedelta\n",
    "import pandas as pd  \n",
    "\n",
    "# Get the current datetime64[us, Etc/UTC]  \n",
    "current_date = pd.Timestamp.now(tz='Etc/UTC')\n",
    "feature_store = get_feature_store()\n",
    "\n",
    "# read time-series data from the feature store\n",
    "fetch_data_to = current_date - timedelta(hours=1)\n",
    "fetch_data_from = current_date - timedelta(days=1*40)\n",
    "print(f\"Fetching data from {fetch_data_from} to {fetch_data_to}\")\n",
    "feature_view = feature_store.get_feature_view(\n",
    "    name=config.FEATURE_VIEW_NAME, version=config.FEATURE_VIEW_VERSION\n",
    ")\n",
    "\n",
    "ts_data = feature_view.get_batch_data(\n",
    "    start_time=(fetch_data_from - timedelta(days=1)),\n",
    "    end_time=(fetch_data_to + timedelta(days=1)),\n",
    ")\n",
    "ts_data = ts_data[ts_data.hour.between(fetch_data_from, fetch_data_to)]"
   ]
  },
  {
   "cell_type": "code",
   "execution_count": 39,
   "id": "944ac70b",
   "metadata": {},
   "outputs": [
    {
     "data": {
      "text/html": [
       "<div>\n",
       "<style scoped>\n",
       "    .dataframe tbody tr th:only-of-type {\n",
       "        vertical-align: middle;\n",
       "    }\n",
       "\n",
       "    .dataframe tbody tr th {\n",
       "        vertical-align: top;\n",
       "    }\n",
       "\n",
       "    .dataframe thead th {\n",
       "        text-align: right;\n",
       "    }\n",
       "</style>\n",
       "<table border=\"1\" class=\"dataframe\">\n",
       "  <thead>\n",
       "    <tr style=\"text-align: right;\">\n",
       "      <th></th>\n",
       "      <th>hour</th>\n",
       "      <th>start_station_id</th>\n",
       "      <th>ride_count</th>\n",
       "    </tr>\n",
       "  </thead>\n",
       "  <tbody>\n",
       "    <tr>\n",
       "      <th>0</th>\n",
       "      <td>2025-04-12 10:00:00+00:00</td>\n",
       "      <td>5329.03</td>\n",
       "      <td>12</td>\n",
       "    </tr>\n",
       "    <tr>\n",
       "      <th>1</th>\n",
       "      <td>2025-04-12 11:00:00+00:00</td>\n",
       "      <td>5329.03</td>\n",
       "      <td>22</td>\n",
       "    </tr>\n",
       "    <tr>\n",
       "      <th>2</th>\n",
       "      <td>2025-04-12 12:00:00+00:00</td>\n",
       "      <td>5329.03</td>\n",
       "      <td>18</td>\n",
       "    </tr>\n",
       "    <tr>\n",
       "      <th>3</th>\n",
       "      <td>2025-04-12 13:00:00+00:00</td>\n",
       "      <td>5329.03</td>\n",
       "      <td>18</td>\n",
       "    </tr>\n",
       "    <tr>\n",
       "      <th>4</th>\n",
       "      <td>2025-04-12 14:00:00+00:00</td>\n",
       "      <td>5329.03</td>\n",
       "      <td>13</td>\n",
       "    </tr>\n",
       "    <tr>\n",
       "      <th>...</th>\n",
       "      <td>...</td>\n",
       "      <td>...</td>\n",
       "      <td>...</td>\n",
       "    </tr>\n",
       "    <tr>\n",
       "      <th>2095</th>\n",
       "      <td>2025-05-11 09:00:00+00:00</td>\n",
       "      <td>6140.05</td>\n",
       "      <td>3</td>\n",
       "    </tr>\n",
       "    <tr>\n",
       "      <th>2096</th>\n",
       "      <td>2025-05-11 10:00:00+00:00</td>\n",
       "      <td>6140.05</td>\n",
       "      <td>17</td>\n",
       "    </tr>\n",
       "    <tr>\n",
       "      <th>2097</th>\n",
       "      <td>2025-05-11 11:00:00+00:00</td>\n",
       "      <td>6140.05</td>\n",
       "      <td>16</td>\n",
       "    </tr>\n",
       "    <tr>\n",
       "      <th>2098</th>\n",
       "      <td>2025-05-11 12:00:00+00:00</td>\n",
       "      <td>6140.05</td>\n",
       "      <td>7</td>\n",
       "    </tr>\n",
       "    <tr>\n",
       "      <th>2099</th>\n",
       "      <td>2025-05-11 13:00:00+00:00</td>\n",
       "      <td>6140.05</td>\n",
       "      <td>20</td>\n",
       "    </tr>\n",
       "  </tbody>\n",
       "</table>\n",
       "<p>2100 rows × 3 columns</p>\n",
       "</div>"
      ],
      "text/plain": [
       "                          hour start_station_id  ride_count\n",
       "0    2025-04-12 10:00:00+00:00          5329.03          12\n",
       "1    2025-04-12 11:00:00+00:00          5329.03          22\n",
       "2    2025-04-12 12:00:00+00:00          5329.03          18\n",
       "3    2025-04-12 13:00:00+00:00          5329.03          18\n",
       "4    2025-04-12 14:00:00+00:00          5329.03          13\n",
       "...                        ...              ...         ...\n",
       "2095 2025-05-11 09:00:00+00:00          6140.05           3\n",
       "2096 2025-05-11 10:00:00+00:00          6140.05          17\n",
       "2097 2025-05-11 11:00:00+00:00          6140.05          16\n",
       "2098 2025-05-11 12:00:00+00:00          6140.05           7\n",
       "2099 2025-05-11 13:00:00+00:00          6140.05          20\n",
       "\n",
       "[2100 rows x 3 columns]"
      ]
     },
     "execution_count": 39,
     "metadata": {},
     "output_type": "execute_result"
    }
   ],
   "source": [
    "ts_data.sort_values([\"start_station_id\", \"hour\"]).reset_index(drop=True)"
   ]
  },
  {
   "cell_type": "code",
   "execution_count": 40,
   "id": "8df1a725",
   "metadata": {},
   "outputs": [],
   "source": [
    "ts_data[\"hour\"] = ts_data[\"hour\"].dt.tz_localize(None)"
   ]
  },
  {
   "cell_type": "code",
   "execution_count": 41,
   "id": "d0f8c73b",
   "metadata": {},
   "outputs": [],
   "source": [
    "from src.data_utils import transform_ts_data_into_features\n",
    "features = transform_ts_data_into_features(ts_data, window_size=24*28, step_size=23)"
   ]
  },
  {
   "cell_type": "code",
   "execution_count": 42,
   "id": "6d0be771",
   "metadata": {},
   "outputs": [
    {
     "data": {
      "text/html": [
       "<div>\n",
       "<style scoped>\n",
       "    .dataframe tbody tr th:only-of-type {\n",
       "        vertical-align: middle;\n",
       "    }\n",
       "\n",
       "    .dataframe tbody tr th {\n",
       "        vertical-align: top;\n",
       "    }\n",
       "\n",
       "    .dataframe thead th {\n",
       "        text-align: right;\n",
       "    }\n",
       "</style>\n",
       "<table border=\"1\" class=\"dataframe\">\n",
       "  <thead>\n",
       "    <tr style=\"text-align: right;\">\n",
       "      <th></th>\n",
       "      <th>ride_count_t-672</th>\n",
       "      <th>ride_count_t-671</th>\n",
       "      <th>ride_count_t-670</th>\n",
       "      <th>ride_count_t-669</th>\n",
       "      <th>ride_count_t-668</th>\n",
       "      <th>ride_count_t-667</th>\n",
       "      <th>ride_count_t-666</th>\n",
       "      <th>ride_count_t-665</th>\n",
       "      <th>ride_count_t-664</th>\n",
       "      <th>ride_count_t-663</th>\n",
       "      <th>...</th>\n",
       "      <th>ride_count_t-8</th>\n",
       "      <th>ride_count_t-7</th>\n",
       "      <th>ride_count_t-6</th>\n",
       "      <th>ride_count_t-5</th>\n",
       "      <th>ride_count_t-4</th>\n",
       "      <th>ride_count_t-3</th>\n",
       "      <th>ride_count_t-2</th>\n",
       "      <th>ride_count_t-1</th>\n",
       "      <th>start_station_id</th>\n",
       "      <th>hour</th>\n",
       "    </tr>\n",
       "  </thead>\n",
       "  <tbody>\n",
       "    <tr>\n",
       "      <th>0</th>\n",
       "      <td>20</td>\n",
       "      <td>0</td>\n",
       "      <td>0</td>\n",
       "      <td>24</td>\n",
       "      <td>8</td>\n",
       "      <td>4</td>\n",
       "      <td>0</td>\n",
       "      <td>11</td>\n",
       "      <td>18</td>\n",
       "      <td>27</td>\n",
       "      <td>...</td>\n",
       "      <td>35</td>\n",
       "      <td>37</td>\n",
       "      <td>25</td>\n",
       "      <td>8</td>\n",
       "      <td>6</td>\n",
       "      <td>16</td>\n",
       "      <td>27</td>\n",
       "      <td>1</td>\n",
       "      <td>5905.14</td>\n",
       "      <td>2025-05-05 05:00:00</td>\n",
       "    </tr>\n",
       "    <tr>\n",
       "      <th>1</th>\n",
       "      <td>1</td>\n",
       "      <td>4</td>\n",
       "      <td>4</td>\n",
       "      <td>0</td>\n",
       "      <td>7</td>\n",
       "      <td>52</td>\n",
       "      <td>16</td>\n",
       "      <td>9</td>\n",
       "      <td>49</td>\n",
       "      <td>19</td>\n",
       "      <td>...</td>\n",
       "      <td>37</td>\n",
       "      <td>2</td>\n",
       "      <td>0</td>\n",
       "      <td>9</td>\n",
       "      <td>0</td>\n",
       "      <td>3</td>\n",
       "      <td>32</td>\n",
       "      <td>16</td>\n",
       "      <td>5905.14</td>\n",
       "      <td>2025-04-25 08:00:00</td>\n",
       "    </tr>\n",
       "    <tr>\n",
       "      <th>2</th>\n",
       "      <td>73</td>\n",
       "      <td>1</td>\n",
       "      <td>0</td>\n",
       "      <td>27</td>\n",
       "      <td>4</td>\n",
       "      <td>0</td>\n",
       "      <td>0</td>\n",
       "      <td>21</td>\n",
       "      <td>0</td>\n",
       "      <td>16</td>\n",
       "      <td>...</td>\n",
       "      <td>22</td>\n",
       "      <td>13</td>\n",
       "      <td>13</td>\n",
       "      <td>11</td>\n",
       "      <td>19</td>\n",
       "      <td>29</td>\n",
       "      <td>0</td>\n",
       "      <td>22</td>\n",
       "      <td>5329.03</td>\n",
       "      <td>2025-04-15 13:00:00</td>\n",
       "    </tr>\n",
       "    <tr>\n",
       "      <th>3</th>\n",
       "      <td>28</td>\n",
       "      <td>21</td>\n",
       "      <td>38</td>\n",
       "      <td>4</td>\n",
       "      <td>2</td>\n",
       "      <td>0</td>\n",
       "      <td>2</td>\n",
       "      <td>10</td>\n",
       "      <td>21</td>\n",
       "      <td>0</td>\n",
       "      <td>...</td>\n",
       "      <td>48</td>\n",
       "      <td>100</td>\n",
       "      <td>10</td>\n",
       "      <td>6</td>\n",
       "      <td>21</td>\n",
       "      <td>17</td>\n",
       "      <td>10</td>\n",
       "      <td>83</td>\n",
       "      <td>5329.03</td>\n",
       "      <td>2025-05-08 18:00:00</td>\n",
       "    </tr>\n",
       "    <tr>\n",
       "      <th>4</th>\n",
       "      <td>27</td>\n",
       "      <td>35</td>\n",
       "      <td>17</td>\n",
       "      <td>41</td>\n",
       "      <td>42</td>\n",
       "      <td>6</td>\n",
       "      <td>28</td>\n",
       "      <td>35</td>\n",
       "      <td>35</td>\n",
       "      <td>4</td>\n",
       "      <td>...</td>\n",
       "      <td>24</td>\n",
       "      <td>51</td>\n",
       "      <td>25</td>\n",
       "      <td>32</td>\n",
       "      <td>9</td>\n",
       "      <td>35</td>\n",
       "      <td>2</td>\n",
       "      <td>1</td>\n",
       "      <td>6140.05</td>\n",
       "      <td>2025-05-11 07:00:00</td>\n",
       "    </tr>\n",
       "  </tbody>\n",
       "</table>\n",
       "<p>5 rows × 674 columns</p>\n",
       "</div>"
      ],
      "text/plain": [
       "   ride_count_t-672  ride_count_t-671  ride_count_t-670  ride_count_t-669  \\\n",
       "0                20                 0                 0                24   \n",
       "1                 1                 4                 4                 0   \n",
       "2                73                 1                 0                27   \n",
       "3                28                21                38                 4   \n",
       "4                27                35                17                41   \n",
       "\n",
       "   ride_count_t-668  ride_count_t-667  ride_count_t-666  ride_count_t-665  \\\n",
       "0                 8                 4                 0                11   \n",
       "1                 7                52                16                 9   \n",
       "2                 4                 0                 0                21   \n",
       "3                 2                 0                 2                10   \n",
       "4                42                 6                28                35   \n",
       "\n",
       "   ride_count_t-664  ride_count_t-663  ...  ride_count_t-8  ride_count_t-7  \\\n",
       "0                18                27  ...              35              37   \n",
       "1                49                19  ...              37               2   \n",
       "2                 0                16  ...              22              13   \n",
       "3                21                 0  ...              48             100   \n",
       "4                35                 4  ...              24              51   \n",
       "\n",
       "   ride_count_t-6  ride_count_t-5  ride_count_t-4  ride_count_t-3  \\\n",
       "0              25               8               6              16   \n",
       "1               0               9               0               3   \n",
       "2              13              11              19              29   \n",
       "3              10               6              21              17   \n",
       "4              25              32               9              35   \n",
       "\n",
       "   ride_count_t-2  ride_count_t-1  start_station_id                hour  \n",
       "0              27               1           5905.14 2025-05-05 05:00:00  \n",
       "1              32              16           5905.14 2025-04-25 08:00:00  \n",
       "2               0              22           5329.03 2025-04-15 13:00:00  \n",
       "3              10              83           5329.03 2025-05-08 18:00:00  \n",
       "4               2               1           6140.05 2025-05-11 07:00:00  \n",
       "\n",
       "[5 rows x 674 columns]"
      ]
     },
     "execution_count": 42,
     "metadata": {},
     "output_type": "execute_result"
    }
   ],
   "source": [
    "features.head()"
   ]
  },
  {
   "cell_type": "code",
   "execution_count": 43,
   "id": "7d1cdee7",
   "metadata": {},
   "outputs": [
    {
     "name": "stdout",
     "output_type": "stream",
     "text": [
      "2025-05-11 10:16:49,325 INFO: Closing external client and cleaning up certificates.\n",
      "Connection closed.\n",
      "2025-05-11 10:16:49,331 INFO: Initializing external client\n",
      "2025-05-11 10:16:49,332 INFO: Base URL: https://c.app.hopsworks.ai:443\n",
      "2025-05-11 10:16:49,819 INFO: Python Engine initialized.\n",
      "\n",
      "Logged in to project, explore it here https://c.app.hopsworks.ai:443/p/1231009\n",
      "Fetching data from 2025-04-12 14:16:49.325597+00:00 to 2025-05-11 13:16:49.325597+00:00\n",
      "Finished: Reading data from Hopsworks, using Hopsworks Feature Query Service (0.49s) \n"
     ]
    }
   ],
   "source": [
    "from src.inference import load_batch_of_features_from_store\n",
    "current_date = pd.Timestamp.now(tz='Etc/UTC')\n",
    "features = load_batch_of_features_from_store(current_date)"
   ]
  },
  {
   "cell_type": "code",
   "execution_count": 44,
   "id": "e1fe6c35",
   "metadata": {},
   "outputs": [
    {
     "data": {
      "text/plain": [
       "(6, 674)"
      ]
     },
     "execution_count": 44,
     "metadata": {},
     "output_type": "execute_result"
    }
   ],
   "source": [
    "features.shape"
   ]
  },
  {
   "cell_type": "code",
   "execution_count": 45,
   "id": "f9582211",
   "metadata": {},
   "outputs": [
    {
     "name": "stdout",
     "output_type": "stream",
     "text": [
      "2025-05-11 10:16:52,982 INFO: Closing external client and cleaning up certificates.\n",
      "Connection closed.\n",
      "2025-05-11 10:16:52,987 INFO: Initializing external client\n",
      "2025-05-11 10:16:52,988 INFO: Base URL: https://c.app.hopsworks.ai:443\n",
      "2025-05-11 10:16:53,493 INFO: Python Engine initialized.\n",
      "\n",
      "Logged in to project, explore it here https://c.app.hopsworks.ai:443/p/1231009\n"
     ]
    },
    {
     "data": {
      "application/vnd.jupyter.widget-view+json": {
       "model_id": "b72d623b5d534a42aa295b7c6a7b9521",
       "version_major": 2,
       "version_minor": 0
      },
      "text/plain": [
       "Downloading: 0.000%|          | 0/324120 elapsed<00:00 remaining<?"
      ]
     },
     "metadata": {},
     "output_type": "display_data"
    },
    {
     "name": "stdout",
     "output_type": "stream",
     "text": [
      "Downloading model artifact (0 dirs, 1 files)... DONE\r"
     ]
    }
   ],
   "source": [
    "from src.inference import load_model_from_registry\n",
    "\n",
    "model = load_model_from_registry()"
   ]
  },
  {
   "cell_type": "code",
   "execution_count": 46,
   "id": "3141174e",
   "metadata": {},
   "outputs": [
    {
     "data": {
      "text/plain": [
       "(6, 674)"
      ]
     },
     "execution_count": 46,
     "metadata": {},
     "output_type": "execute_result"
    }
   ],
   "source": [
    "features.shape"
   ]
  },
  {
   "cell_type": "code",
   "execution_count": 47,
   "id": "911097dd",
   "metadata": {},
   "outputs": [],
   "source": [
    "from src.inference import get_model_predictions\n",
    "predictions = get_model_predictions(model, features)"
   ]
  },
  {
   "cell_type": "code",
   "execution_count": 48,
   "id": "99124cf3",
   "metadata": {},
   "outputs": [
    {
     "data": {
      "text/html": [
       "<div>\n",
       "<style scoped>\n",
       "    .dataframe tbody tr th:only-of-type {\n",
       "        vertical-align: middle;\n",
       "    }\n",
       "\n",
       "    .dataframe tbody tr th {\n",
       "        vertical-align: top;\n",
       "    }\n",
       "\n",
       "    .dataframe thead th {\n",
       "        text-align: right;\n",
       "    }\n",
       "</style>\n",
       "<table border=\"1\" class=\"dataframe\">\n",
       "  <thead>\n",
       "    <tr style=\"text-align: right;\">\n",
       "      <th></th>\n",
       "      <th>start_station_id</th>\n",
       "      <th>predicted_demand</th>\n",
       "    </tr>\n",
       "  </thead>\n",
       "  <tbody>\n",
       "    <tr>\n",
       "      <th>0</th>\n",
       "      <td>5329.03</td>\n",
       "      <td>39.0</td>\n",
       "    </tr>\n",
       "    <tr>\n",
       "      <th>1</th>\n",
       "      <td>5329.03</td>\n",
       "      <td>27.0</td>\n",
       "    </tr>\n",
       "    <tr>\n",
       "      <th>2</th>\n",
       "      <td>5905.14</td>\n",
       "      <td>0.0</td>\n",
       "    </tr>\n",
       "    <tr>\n",
       "      <th>3</th>\n",
       "      <td>5905.14</td>\n",
       "      <td>19.0</td>\n",
       "    </tr>\n",
       "    <tr>\n",
       "      <th>4</th>\n",
       "      <td>6140.05</td>\n",
       "      <td>33.0</td>\n",
       "    </tr>\n",
       "    <tr>\n",
       "      <th>5</th>\n",
       "      <td>6140.05</td>\n",
       "      <td>29.0</td>\n",
       "    </tr>\n",
       "  </tbody>\n",
       "</table>\n",
       "</div>"
      ],
      "text/plain": [
       "  start_station_id  predicted_demand\n",
       "0          5329.03              39.0\n",
       "1          5329.03              27.0\n",
       "2          5905.14               0.0\n",
       "3          5905.14              19.0\n",
       "4          6140.05              33.0\n",
       "5          6140.05              29.0"
      ]
     },
     "execution_count": 48,
     "metadata": {},
     "output_type": "execute_result"
    }
   ],
   "source": [
    "predictions"
   ]
  }
 ],
 "metadata": {
  "kernelspec": {
   "display_name": "test_env",
   "language": "python",
   "name": "python3"
  },
  "language_info": {
   "codemirror_mode": {
    "name": "ipython",
    "version": 3
   },
   "file_extension": ".py",
   "mimetype": "text/x-python",
   "name": "python",
   "nbconvert_exporter": "python",
   "pygments_lexer": "ipython3",
   "version": "3.11.11"
  }
 },
 "nbformat": 4,
 "nbformat_minor": 5
}
