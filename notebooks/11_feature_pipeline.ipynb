{
 "cells": [
  {
   "cell_type": "code",
   "execution_count": 58,
   "id": "3ed714fe",
   "metadata": {},
   "outputs": [
    {
     "name": "stdout",
     "output_type": "stream",
     "text": [
      "The autoreload extension is already loaded. To reload it, use:\n",
      "  %reload_ext autoreload\n"
     ]
    }
   ],
   "source": [
    "%load_ext autoreload\n",
    "%autoreload 2"
   ]
  },
  {
   "cell_type": "code",
   "execution_count": 59,
   "id": "56232770",
   "metadata": {},
   "outputs": [],
   "source": [
    "# Show all output for a cell\n",
    "from IPython.core.interactiveshell import InteractiveShell\n",
    "InteractiveShell.ast_node_interactivity = \"all\""
   ]
  },
  {
   "cell_type": "code",
   "execution_count": 60,
   "id": "32c05b4d",
   "metadata": {},
   "outputs": [],
   "source": [
    "import sys\n",
    "import os\n",
    "\n",
    "# Add the parent directory to the Python path\n",
    "sys.path.append(os.path.abspath(os.path.join(os.getcwd(), \"..\")))\n",
    "import src.config as config"
   ]
  },
  {
   "cell_type": "code",
   "execution_count": 61,
   "id": "b4a1befc",
   "metadata": {},
   "outputs": [],
   "source": [
    "from datetime import datetime, timedelta, timezone\n",
    "from typing import Union\n",
    "import pandas as pd\n",
    "from src.data_utils import load_and_process_citibike_data\n",
    "\n",
    "def fetch_batch_raw_data(from_date: Union[datetime, str], to_date: Union[datetime, str]) -> pd.DataFrame:\n",
    "    \"\"\"\n",
    "    Simulates production batch data for Citi Bike by sampling data from 52 weeks earlier.\n",
    "\n",
    "    Args:\n",
    "        from_date (datetime or str): Start of the batch window.\n",
    "        to_date (datetime or str): End of the batch window.\n",
    "\n",
    "    Returns:\n",
    "        pd.DataFrame: Shifted Citi Bike ride data for the given time window.\n",
    "    \"\"\"\n",
    "    # Parse string inputs if needed\n",
    "    if isinstance(from_date, str):\n",
    "        from_date = datetime.fromisoformat(from_date)\n",
    "    if isinstance(to_date, str):\n",
    "        to_date = datetime.fromisoformat(to_date)\n",
    "\n",
    "    if from_date >= to_date:\n",
    "        raise ValueError(\"'from_date' must be earlier than 'to_date'.\")\n",
    "\n",
    "    # Shift 52 weeks back and remove timezone info\n",
    "    historical_from_date = (from_date - timedelta(weeks=52)).replace(tzinfo=None)\n",
    "    historical_to_date = (to_date - timedelta(weeks=52)).replace(tzinfo=None)\n",
    "\n",
    "    # Load historical month(s) and remove timezone\n",
    "    rides_from = load_and_process_citibike_data(year=historical_from_date.year, months=[historical_from_date.month])\n",
    "    rides_from['started_at'] = pd.to_datetime(rides_from['started_at']).dt.tz_localize(None)\n",
    "    rides_from = rides_from[rides_from['started_at'] >= historical_from_date]\n",
    "\n",
    "    if historical_to_date.month != historical_from_date.month:\n",
    "        rides_to = load_and_process_citibike_data(year=historical_to_date.year, months=[historical_to_date.month])\n",
    "        rides_to['started_at'] = pd.to_datetime(rides_to['started_at']).dt.tz_localize(None)\n",
    "        rides_to = rides_to[rides_to['started_at'] < historical_to_date]\n",
    "        rides = pd.concat([rides_from, rides_to], ignore_index=True)\n",
    "    else:\n",
    "        rides = rides_from\n",
    "\n",
    "    # Shift timestamps forward again by 52 weeks to simulate \"now\"\n",
    "    rides['started_at'] += timedelta(weeks=52)\n",
    "\n",
    "    # Sort by station and timestamp for consistency\n",
    "    rides.sort_values(by=['start_station_id', 'started_at'], inplace=True)\n",
    "\n",
    "    return rides"
   ]
  },
  {
   "cell_type": "code",
   "execution_count": 62,
   "id": "f42769ce",
   "metadata": {},
   "outputs": [
    {
     "name": "stdout",
     "output_type": "stream",
     "text": [
      "2025-05-11 14:30:55.764268\n"
     ]
    },
    {
     "data": {
      "text/plain": [
       "pandas._libs.tslibs.timestamps.Timestamp"
      ]
     },
     "execution_count": 62,
     "metadata": {},
     "output_type": "execute_result"
    },
    {
     "data": {
      "text/plain": [
       "numpy.datetime64('2025-05-11T14:00:00.000000000')"
      ]
     },
     "execution_count": 62,
     "metadata": {},
     "output_type": "execute_result"
    },
    {
     "data": {
      "text/plain": [
       "Timestamp('2025-05-11 14:00:00+0000', tz='UTC')"
      ]
     },
     "execution_count": 62,
     "metadata": {},
     "output_type": "execute_result"
    },
    {
     "data": {
      "text/plain": [
       "Timestamp('2025-04-12 14:00:00+0000', tz='UTC')"
      ]
     },
     "execution_count": 62,
     "metadata": {},
     "output_type": "execute_result"
    }
   ],
   "source": [
    "current_date = pd.to_datetime(datetime.utcnow())\n",
    "print(f\"{current_date}\")\n",
    "type(current_date)\n",
    "current_date = pd.to_datetime(datetime.now(timezone.utc)).floor(\"h\")\n",
    "current_date.to_datetime64()\n",
    "fetch_data_to = current_date\n",
    "fetch_data_from = current_date - timedelta(days=29)\n",
    "fetch_data_to\n",
    "fetch_data_from"
   ]
  },
  {
   "cell_type": "code",
   "execution_count": 63,
   "id": "39cb26ea",
   "metadata": {},
   "outputs": [
    {
     "name": "stdout",
     "output_type": "stream",
     "text": [
      "📁 File already exists: citi_bike_rides_raw_2024_04.parquet\n",
      "📖 Loading data from: citi_bike_rides_raw_2024_04.parquet\n"
     ]
    },
    {
     "name": "stdout",
     "output_type": "stream",
     "text": [
      "🔍 Filtering data for 2024-04...\n",
      "✅ Saved filtered data to: /Users/yashmathur/Documents/MS_DS/Python_Spring_25/CDA_500/Test_Final/data/processed/citi_bike_rides_processed_2024_04.parquet\n",
      "✅ Successfully combined all filtered months.\n",
      "📁 File already exists: citi_bike_rides_raw_2024_05.parquet\n",
      "📖 Loading data from: citi_bike_rides_raw_2024_05.parquet\n",
      "🔍 Filtering data for 2024-05...\n",
      "✅ Saved filtered data to: /Users/yashmathur/Documents/MS_DS/Python_Spring_25/CDA_500/Test_Final/data/processed/citi_bike_rides_processed_2024_05.parquet\n",
      "✅ Successfully combined all filtered months.\n"
     ]
    }
   ],
   "source": [
    "citi_bike_rides = fetch_batch_raw_data(fetch_data_from, fetch_data_to)"
   ]
  },
  {
   "cell_type": "code",
   "execution_count": 64,
   "id": "2c3724f5",
   "metadata": {},
   "outputs": [
    {
     "data": {
      "text/html": [
       "<div>\n",
       "<style scoped>\n",
       "    .dataframe tbody tr th:only-of-type {\n",
       "        vertical-align: middle;\n",
       "    }\n",
       "\n",
       "    .dataframe tbody tr th {\n",
       "        vertical-align: top;\n",
       "    }\n",
       "\n",
       "    .dataframe thead th {\n",
       "        text-align: right;\n",
       "    }\n",
       "</style>\n",
       "<table border=\"1\" class=\"dataframe\">\n",
       "  <thead>\n",
       "    <tr style=\"text-align: right;\">\n",
       "      <th></th>\n",
       "      <th>started_at</th>\n",
       "      <th>start_station_id</th>\n",
       "    </tr>\n",
       "  </thead>\n",
       "  <tbody>\n",
       "    <tr>\n",
       "      <th>1408117</th>\n",
       "      <td>2025-04-12 15:45:28.770</td>\n",
       "      <td>2733.03</td>\n",
       "    </tr>\n",
       "    <tr>\n",
       "      <th>709133</th>\n",
       "      <td>2025-04-12 17:27:16.857</td>\n",
       "      <td>2733.03</td>\n",
       "    </tr>\n",
       "    <tr>\n",
       "      <th>623163</th>\n",
       "      <td>2025-04-13 12:38:50.285</td>\n",
       "      <td>2733.03</td>\n",
       "    </tr>\n",
       "    <tr>\n",
       "      <th>1688686</th>\n",
       "      <td>2025-04-13 17:22:18.671</td>\n",
       "      <td>2733.03</td>\n",
       "    </tr>\n",
       "    <tr>\n",
       "      <th>1497914</th>\n",
       "      <td>2025-04-13 18:07:27.791</td>\n",
       "      <td>2733.03</td>\n",
       "    </tr>\n",
       "    <tr>\n",
       "      <th>...</th>\n",
       "      <td>...</td>\n",
       "      <td>...</td>\n",
       "    </tr>\n",
       "    <tr>\n",
       "      <th>2493403</th>\n",
       "      <td>2025-05-03 09:00:32.000</td>\n",
       "      <td>SYS038</td>\n",
       "    </tr>\n",
       "    <tr>\n",
       "      <th>3060911</th>\n",
       "      <td>2025-05-03 19:02:21.000</td>\n",
       "      <td>SYS038</td>\n",
       "    </tr>\n",
       "    <tr>\n",
       "      <th>2320329</th>\n",
       "      <td>2025-05-06 21:04:19.000</td>\n",
       "      <td>SYS038</td>\n",
       "    </tr>\n",
       "    <tr>\n",
       "      <th>2320328</th>\n",
       "      <td>2025-05-07 17:03:17.000</td>\n",
       "      <td>SYS038</td>\n",
       "    </tr>\n",
       "    <tr>\n",
       "      <th>2332528</th>\n",
       "      <td>2025-05-10 15:08:40.000</td>\n",
       "      <td>SYS038</td>\n",
       "    </tr>\n",
       "  </tbody>\n",
       "</table>\n",
       "<p>3540688 rows × 2 columns</p>\n",
       "</div>"
      ],
      "text/plain": [
       "                     started_at start_station_id\n",
       "1408117 2025-04-12 15:45:28.770          2733.03\n",
       "709133  2025-04-12 17:27:16.857          2733.03\n",
       "623163  2025-04-13 12:38:50.285          2733.03\n",
       "1688686 2025-04-13 17:22:18.671          2733.03\n",
       "1497914 2025-04-13 18:07:27.791          2733.03\n",
       "...                         ...              ...\n",
       "2493403 2025-05-03 09:00:32.000           SYS038\n",
       "3060911 2025-05-03 19:02:21.000           SYS038\n",
       "2320329 2025-05-06 21:04:19.000           SYS038\n",
       "2320328 2025-05-07 17:03:17.000           SYS038\n",
       "2332528 2025-05-10 15:08:40.000           SYS038\n",
       "\n",
       "[3540688 rows x 2 columns]"
      ]
     },
     "execution_count": 64,
     "metadata": {},
     "output_type": "execute_result"
    }
   ],
   "source": [
    "citi_bike_rides"
   ]
  },
  {
   "cell_type": "code",
   "execution_count": 65,
   "id": "e9155d79",
   "metadata": {},
   "outputs": [],
   "source": [
    "from src.data_utils import transform_raw_data_into_ts_data\n",
    "citi_bike_ts_data = transform_raw_data_into_ts_data(citi_bike_rides)"
   ]
  },
  {
   "cell_type": "code",
   "execution_count": 66,
   "id": "7324b8dc",
   "metadata": {},
   "outputs": [
    {
     "data": {
      "text/html": [
       "<div>\n",
       "<style scoped>\n",
       "    .dataframe tbody tr th:only-of-type {\n",
       "        vertical-align: middle;\n",
       "    }\n",
       "\n",
       "    .dataframe tbody tr th {\n",
       "        vertical-align: top;\n",
       "    }\n",
       "\n",
       "    .dataframe thead th {\n",
       "        text-align: right;\n",
       "    }\n",
       "</style>\n",
       "<table border=\"1\" class=\"dataframe\">\n",
       "  <thead>\n",
       "    <tr style=\"text-align: right;\">\n",
       "      <th></th>\n",
       "      <th>hour</th>\n",
       "      <th>start_station_id</th>\n",
       "      <th>ride_count</th>\n",
       "    </tr>\n",
       "  </thead>\n",
       "  <tbody>\n",
       "    <tr>\n",
       "      <th>0</th>\n",
       "      <td>2025-04-12 14:00:00</td>\n",
       "      <td>5329.03</td>\n",
       "      <td>13</td>\n",
       "    </tr>\n",
       "    <tr>\n",
       "      <th>1</th>\n",
       "      <td>2025-04-12 14:00:00</td>\n",
       "      <td>5905.14</td>\n",
       "      <td>31</td>\n",
       "    </tr>\n",
       "    <tr>\n",
       "      <th>2</th>\n",
       "      <td>2025-04-12 14:00:00</td>\n",
       "      <td>6140.05</td>\n",
       "      <td>33</td>\n",
       "    </tr>\n",
       "    <tr>\n",
       "      <th>3</th>\n",
       "      <td>2025-04-12 15:00:00</td>\n",
       "      <td>5329.03</td>\n",
       "      <td>19</td>\n",
       "    </tr>\n",
       "    <tr>\n",
       "      <th>4</th>\n",
       "      <td>2025-04-12 15:00:00</td>\n",
       "      <td>5905.14</td>\n",
       "      <td>28</td>\n",
       "    </tr>\n",
       "    <tr>\n",
       "      <th>...</th>\n",
       "      <td>...</td>\n",
       "      <td>...</td>\n",
       "      <td>...</td>\n",
       "    </tr>\n",
       "    <tr>\n",
       "      <th>2083</th>\n",
       "      <td>2025-05-11 12:00:00</td>\n",
       "      <td>5905.14</td>\n",
       "      <td>20</td>\n",
       "    </tr>\n",
       "    <tr>\n",
       "      <th>2084</th>\n",
       "      <td>2025-05-11 12:00:00</td>\n",
       "      <td>6140.05</td>\n",
       "      <td>7</td>\n",
       "    </tr>\n",
       "    <tr>\n",
       "      <th>2085</th>\n",
       "      <td>2025-05-11 13:00:00</td>\n",
       "      <td>5329.03</td>\n",
       "      <td>14</td>\n",
       "    </tr>\n",
       "    <tr>\n",
       "      <th>2086</th>\n",
       "      <td>2025-05-11 13:00:00</td>\n",
       "      <td>5905.14</td>\n",
       "      <td>17</td>\n",
       "    </tr>\n",
       "    <tr>\n",
       "      <th>2087</th>\n",
       "      <td>2025-05-11 13:00:00</td>\n",
       "      <td>6140.05</td>\n",
       "      <td>20</td>\n",
       "    </tr>\n",
       "  </tbody>\n",
       "</table>\n",
       "<p>2088 rows × 3 columns</p>\n",
       "</div>"
      ],
      "text/plain": [
       "                    hour start_station_id  ride_count\n",
       "0    2025-04-12 14:00:00          5329.03          13\n",
       "1    2025-04-12 14:00:00          5905.14          31\n",
       "2    2025-04-12 14:00:00          6140.05          33\n",
       "3    2025-04-12 15:00:00          5329.03          19\n",
       "4    2025-04-12 15:00:00          5905.14          28\n",
       "...                  ...              ...         ...\n",
       "2083 2025-05-11 12:00:00          5905.14          20\n",
       "2084 2025-05-11 12:00:00          6140.05           7\n",
       "2085 2025-05-11 13:00:00          5329.03          14\n",
       "2086 2025-05-11 13:00:00          5905.14          17\n",
       "2087 2025-05-11 13:00:00          6140.05          20\n",
       "\n",
       "[2088 rows x 3 columns]"
      ]
     },
     "execution_count": 66,
     "metadata": {},
     "output_type": "execute_result"
    }
   ],
   "source": [
    "citi_bike_ts_data"
   ]
  },
  {
   "cell_type": "code",
   "execution_count": 67,
   "id": "1498d3ce",
   "metadata": {},
   "outputs": [
    {
     "name": "stdout",
     "output_type": "stream",
     "text": [
      "2025-05-11 10:31:11,090 INFO: Closing external client and cleaning up certificates.\n",
      "Connection closed.\n",
      "2025-05-11 10:31:11,104 INFO: Initializing external client\n",
      "2025-05-11 10:31:11,105 INFO: Base URL: https://c.app.hopsworks.ai:443\n",
      "2025-05-11 10:31:11,870 INFO: Python Engine initialized.\n",
      "\n",
      "Logged in to project, explore it here https://c.app.hopsworks.ai:443/p/1231009\n"
     ]
    }
   ],
   "source": [
    "import hopsworks\n",
    "\n",
    "# connect to the project\n",
    "project = hopsworks.login(\n",
    "    project=config.HOPSWORKS_PROJECT_NAME,\n",
    "    api_key_value=config.HOPSWORKS_API_KEY\n",
    ")\n",
    "\n",
    "# connect to the feature store\n",
    "feature_store = project.get_feature_store()\n",
    "\n",
    "# connect to the feature group\n",
    "feature_group = feature_store.get_or_create_feature_group(\n",
    "    name=config.FEATURE_GROUP_NAME,\n",
    "    version=config.FEATURE_GROUP_VERSION,\n",
    "    description=\"Time series data at hourly freaquency\",\n",
    "    primary_key=[\"start_station_id\", \"hour\"],\n",
    "    event_time=\"hour\"\n",
    ")"
   ]
  },
  {
   "cell_type": "code",
   "execution_count": 68,
   "id": "d9155064",
   "metadata": {},
   "outputs": [
    {
     "name": "stderr",
     "output_type": "stream",
     "text": [
      "Uploading Dataframe: 100.00% |██████████| Rows 2088/2088 | Elapsed Time: 00:00 | Remaining Time: 00:00\n",
      "UserWarning: Materialization job is already running, aborting new execution.Please wait for the current execution to finish before triggering a new one.You can check the status of the current execution using `fg.materialization_job.get_state()`.or `fg.materialization_job.get_final_state()` or check it out in the Hopsworks UI.at https://c.app.hopsworks.ai:443/p/1231009/jobs/named/citi_bike_time_series_hourly_feature_group_1_offline_fg_materialization.\n",
      "Use fg.materialization_job.run(args=-op offline_fg_materialization -path hdfs:///Projects/Citi_Bike_3010/Resources/jobs/citi_bike_time_series_hourly_feature_group_1_offline_fg_materialization/config_1746959707034) to trigger the materialization job again.\n"
     ]
    },
    {
     "data": {
      "text/plain": [
       "(Job('citi_bike_time_series_hourly_feature_group_1_offline_fg_materialization', 'SPARK'),\n",
       " None)"
      ]
     },
     "execution_count": 68,
     "metadata": {},
     "output_type": "execute_result"
    }
   ],
   "source": [
    "feature_group.insert(citi_bike_ts_data, write_options={\"wait_for_job\": False})"
   ]
  }
 ],
 "metadata": {
  "kernelspec": {
   "display_name": "test_env",
   "language": "python",
   "name": "python3"
  },
  "language_info": {
   "codemirror_mode": {
    "name": "ipython",
    "version": 3
   },
   "file_extension": ".py",
   "mimetype": "text/x-python",
   "name": "python",
   "nbconvert_exporter": "python",
   "pygments_lexer": "ipython3",
   "version": "3.11.11"
  }
 },
 "nbformat": 4,
 "nbformat_minor": 5
}
