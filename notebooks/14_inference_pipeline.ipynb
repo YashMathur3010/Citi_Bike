{
 "cells": [
  {
   "cell_type": "code",
   "execution_count": 1,
   "id": "e36aa909",
   "metadata": {},
   "outputs": [],
   "source": [
    "%load_ext autoreload\n",
    "%autoreload 2"
   ]
  },
  {
   "cell_type": "code",
   "execution_count": 2,
   "id": "6f5f9be8",
   "metadata": {},
   "outputs": [],
   "source": [
    "# Show all output for a cell\n",
    "from IPython.core.interactiveshell import InteractiveShell\n",
    "InteractiveShell.ast_node_interactivity = \"all\""
   ]
  },
  {
   "cell_type": "code",
   "execution_count": 3,
   "id": "55e75486",
   "metadata": {},
   "outputs": [],
   "source": [
    "import sys\n",
    "import os\n",
    "\n",
    "# Add the parent directory to the Python path\n",
    "sys.path.append(os.path.abspath(os.path.join(os.getcwd(), \"..\")))\n",
    "import src.config as config"
   ]
  },
  {
   "cell_type": "code",
   "execution_count": 4,
   "id": "0108d022",
   "metadata": {},
   "outputs": [
    {
     "name": "stdout",
     "output_type": "stream",
     "text": [
      "2025-05-11 10:35:06,166 INFO: Initializing external client\n",
      "2025-05-11 10:35:06,167 INFO: Base URL: https://c.app.hopsworks.ai:443\n",
      "2025-05-11 10:35:06,878 INFO: Python Engine initialized.\n",
      "\n",
      "Logged in to project, explore it here https://c.app.hopsworks.ai:443/p/1231009\n",
      "Fetching data from 2025-04-01 14:35:06.163888+00:00 to 2025-05-11 13:35:06.163888+00:00\n",
      "Finished: Reading data from Hopsworks, using Hopsworks Feature Query Service (0.50s) \n"
     ]
    }
   ],
   "source": [
    "from src.inference import get_feature_store\n",
    "from datetime import datetime, timedelta\n",
    "import pandas as pd\n",
    "\n",
    "# Get the current datetime in UTC\n",
    "current_date = pd.Timestamp.now(tz='Etc/UTC')\n",
    "feature_store = get_feature_store()\n",
    "\n",
    "# Define the 28-day batch window\n",
    "fetch_data_to = current_date - timedelta(hours=1)\n",
    "fetch_data_from = current_date - timedelta(days=40)\n",
    "print(f\"Fetching data from {fetch_data_from} to {fetch_data_to}\")\n",
    "\n",
    "# Load the feature view\n",
    "feature_view = feature_store.get_feature_view(\n",
    "    name=config.FEATURE_VIEW_NAME,\n",
    "    version=config.FEATURE_VIEW_VERSION\n",
    ")\n",
    "\n",
    "# Fetch the full time range (+1 day buffer on both sides)\n",
    "ts_data = feature_view.get_batch_data(\n",
    "    start_time=(fetch_data_from - timedelta(days=1)),\n",
    "    end_time=(fetch_data_to + timedelta(days=1)),\n",
    ")\n",
    "\n",
    "# Filter strictly within the range, localize to naive timestamps\n",
    "ts_data = ts_data[ts_data[\"hour\"].between(fetch_data_from, fetch_data_to)]\n",
    "ts_data = ts_data.sort_values([\"start_station_id\", \"hour\"]).reset_index(drop=True)\n",
    "ts_data[\"hour\"] = ts_data[\"hour\"].dt.tz_localize(None)\n",
    "\n",
    "# Transform to sliding window features\n",
    "from src.data_utils import transform_ts_data_into_features\n",
    "features = transform_ts_data_into_features(\n",
    "    ts_data, window_size=24*28, step_size=23\n",
    ")"
   ]
  },
  {
   "cell_type": "code",
   "execution_count": 5,
   "id": "1c135d15",
   "metadata": {},
   "outputs": [
    {
     "name": "stdout",
     "output_type": "stream",
     "text": [
      "2025-05-11 10:35:12,746 INFO: Closing external client and cleaning up certificates.\n",
      "Connection closed.\n",
      "2025-05-11 10:35:12,752 INFO: Initializing external client\n",
      "2025-05-11 10:35:12,752 INFO: Base URL: https://c.app.hopsworks.ai:443\n",
      "2025-05-11 10:35:13,330 INFO: Python Engine initialized.\n",
      "\n",
      "Logged in to project, explore it here https://c.app.hopsworks.ai:443/p/1231009\n"
     ]
    },
    {
     "data": {
      "application/vnd.jupyter.widget-view+json": {
       "model_id": "fc1b66d62ba14522a03ad2698c6c92e0",
       "version_major": 2,
       "version_minor": 0
      },
      "text/plain": [
       "Downloading: 0.000%|          | 0/325454 elapsed<00:00 remaining<?"
      ]
     },
     "metadata": {},
     "output_type": "display_data"
    },
    {
     "name": "stdout",
     "output_type": "stream",
     "text": [
      "Downloading model artifact (0 dirs, 1 files)... DONE\r"
     ]
    }
   ],
   "source": [
    "from src.inference import load_model_from_registry\n",
    "\n",
    "model = load_model_from_registry()"
   ]
  },
  {
   "cell_type": "code",
   "execution_count": 6,
   "id": "c956593a",
   "metadata": {},
   "outputs": [],
   "source": [
    "from src.inference import get_model_predictions\n",
    "predictions = get_model_predictions(model, features)"
   ]
  },
  {
   "cell_type": "code",
   "execution_count": 7,
   "id": "999ecc2c",
   "metadata": {},
   "outputs": [
    {
     "data": {
      "text/html": [
       "<div>\n",
       "<style scoped>\n",
       "    .dataframe tbody tr th:only-of-type {\n",
       "        vertical-align: middle;\n",
       "    }\n",
       "\n",
       "    .dataframe tbody tr th {\n",
       "        vertical-align: top;\n",
       "    }\n",
       "\n",
       "    .dataframe thead th {\n",
       "        text-align: right;\n",
       "    }\n",
       "</style>\n",
       "<table border=\"1\" class=\"dataframe\">\n",
       "  <thead>\n",
       "    <tr style=\"text-align: right;\">\n",
       "      <th></th>\n",
       "      <th>start_station_id</th>\n",
       "      <th>predicted_demand</th>\n",
       "      <th>hour</th>\n",
       "    </tr>\n",
       "  </thead>\n",
       "  <tbody>\n",
       "    <tr>\n",
       "      <th>0</th>\n",
       "      <td>5329.03</td>\n",
       "      <td>21.0</td>\n",
       "      <td>2025-05-11 15:00:00+00:00</td>\n",
       "    </tr>\n",
       "    <tr>\n",
       "      <th>1</th>\n",
       "      <td>5329.03</td>\n",
       "      <td>9.0</td>\n",
       "      <td>2025-05-11 15:00:00+00:00</td>\n",
       "    </tr>\n",
       "    <tr>\n",
       "      <th>2</th>\n",
       "      <td>5788.13</td>\n",
       "      <td>35.0</td>\n",
       "      <td>2025-05-11 15:00:00+00:00</td>\n",
       "    </tr>\n",
       "    <tr>\n",
       "      <th>3</th>\n",
       "      <td>5788.13</td>\n",
       "      <td>33.0</td>\n",
       "      <td>2025-05-11 15:00:00+00:00</td>\n",
       "    </tr>\n",
       "    <tr>\n",
       "      <th>4</th>\n",
       "      <td>5905.14</td>\n",
       "      <td>35.0</td>\n",
       "      <td>2025-05-11 15:00:00+00:00</td>\n",
       "    </tr>\n",
       "    <tr>\n",
       "      <th>5</th>\n",
       "      <td>5905.14</td>\n",
       "      <td>25.0</td>\n",
       "      <td>2025-05-11 15:00:00+00:00</td>\n",
       "    </tr>\n",
       "    <tr>\n",
       "      <th>6</th>\n",
       "      <td>5905.14</td>\n",
       "      <td>31.0</td>\n",
       "      <td>2025-05-11 15:00:00+00:00</td>\n",
       "    </tr>\n",
       "    <tr>\n",
       "      <th>7</th>\n",
       "      <td>5905.14</td>\n",
       "      <td>22.0</td>\n",
       "      <td>2025-05-11 15:00:00+00:00</td>\n",
       "    </tr>\n",
       "    <tr>\n",
       "      <th>8</th>\n",
       "      <td>5905.14</td>\n",
       "      <td>23.0</td>\n",
       "      <td>2025-05-11 15:00:00+00:00</td>\n",
       "    </tr>\n",
       "    <tr>\n",
       "      <th>9</th>\n",
       "      <td>5905.14</td>\n",
       "      <td>21.0</td>\n",
       "      <td>2025-05-11 15:00:00+00:00</td>\n",
       "    </tr>\n",
       "    <tr>\n",
       "      <th>10</th>\n",
       "      <td>5905.14</td>\n",
       "      <td>24.0</td>\n",
       "      <td>2025-05-11 15:00:00+00:00</td>\n",
       "    </tr>\n",
       "    <tr>\n",
       "      <th>11</th>\n",
       "      <td>5905.14</td>\n",
       "      <td>28.0</td>\n",
       "      <td>2025-05-11 15:00:00+00:00</td>\n",
       "    </tr>\n",
       "    <tr>\n",
       "      <th>12</th>\n",
       "      <td>5905.14</td>\n",
       "      <td>17.0</td>\n",
       "      <td>2025-05-11 15:00:00+00:00</td>\n",
       "    </tr>\n",
       "    <tr>\n",
       "      <th>13</th>\n",
       "      <td>5905.14</td>\n",
       "      <td>9.0</td>\n",
       "      <td>2025-05-11 15:00:00+00:00</td>\n",
       "    </tr>\n",
       "    <tr>\n",
       "      <th>14</th>\n",
       "      <td>5905.14</td>\n",
       "      <td>1.0</td>\n",
       "      <td>2025-05-11 15:00:00+00:00</td>\n",
       "    </tr>\n",
       "    <tr>\n",
       "      <th>15</th>\n",
       "      <td>5905.14</td>\n",
       "      <td>1.0</td>\n",
       "      <td>2025-05-11 15:00:00+00:00</td>\n",
       "    </tr>\n",
       "    <tr>\n",
       "      <th>16</th>\n",
       "      <td>5905.14</td>\n",
       "      <td>0.0</td>\n",
       "      <td>2025-05-11 15:00:00+00:00</td>\n",
       "    </tr>\n",
       "    <tr>\n",
       "      <th>17</th>\n",
       "      <td>6140.05</td>\n",
       "      <td>40.0</td>\n",
       "      <td>2025-05-11 15:00:00+00:00</td>\n",
       "    </tr>\n",
       "    <tr>\n",
       "      <th>18</th>\n",
       "      <td>6140.05</td>\n",
       "      <td>35.0</td>\n",
       "      <td>2025-05-11 15:00:00+00:00</td>\n",
       "    </tr>\n",
       "    <tr>\n",
       "      <th>19</th>\n",
       "      <td>6140.05</td>\n",
       "      <td>35.0</td>\n",
       "      <td>2025-05-11 15:00:00+00:00</td>\n",
       "    </tr>\n",
       "    <tr>\n",
       "      <th>20</th>\n",
       "      <td>6140.05</td>\n",
       "      <td>31.0</td>\n",
       "      <td>2025-05-11 15:00:00+00:00</td>\n",
       "    </tr>\n",
       "    <tr>\n",
       "      <th>21</th>\n",
       "      <td>6140.05</td>\n",
       "      <td>30.0</td>\n",
       "      <td>2025-05-11 15:00:00+00:00</td>\n",
       "    </tr>\n",
       "    <tr>\n",
       "      <th>22</th>\n",
       "      <td>6140.05</td>\n",
       "      <td>21.0</td>\n",
       "      <td>2025-05-11 15:00:00+00:00</td>\n",
       "    </tr>\n",
       "    <tr>\n",
       "      <th>23</th>\n",
       "      <td>6140.05</td>\n",
       "      <td>24.0</td>\n",
       "      <td>2025-05-11 15:00:00+00:00</td>\n",
       "    </tr>\n",
       "    <tr>\n",
       "      <th>24</th>\n",
       "      <td>6140.05</td>\n",
       "      <td>35.0</td>\n",
       "      <td>2025-05-11 15:00:00+00:00</td>\n",
       "    </tr>\n",
       "    <tr>\n",
       "      <th>25</th>\n",
       "      <td>6140.05</td>\n",
       "      <td>15.0</td>\n",
       "      <td>2025-05-11 15:00:00+00:00</td>\n",
       "    </tr>\n",
       "    <tr>\n",
       "      <th>26</th>\n",
       "      <td>6140.05</td>\n",
       "      <td>12.0</td>\n",
       "      <td>2025-05-11 15:00:00+00:00</td>\n",
       "    </tr>\n",
       "    <tr>\n",
       "      <th>27</th>\n",
       "      <td>6140.05</td>\n",
       "      <td>3.0</td>\n",
       "      <td>2025-05-11 15:00:00+00:00</td>\n",
       "    </tr>\n",
       "    <tr>\n",
       "      <th>28</th>\n",
       "      <td>6140.05</td>\n",
       "      <td>1.0</td>\n",
       "      <td>2025-05-11 15:00:00+00:00</td>\n",
       "    </tr>\n",
       "    <tr>\n",
       "      <th>29</th>\n",
       "      <td>6140.05</td>\n",
       "      <td>1.0</td>\n",
       "      <td>2025-05-11 15:00:00+00:00</td>\n",
       "    </tr>\n",
       "  </tbody>\n",
       "</table>\n",
       "</div>"
      ],
      "text/plain": [
       "   start_station_id  predicted_demand                      hour\n",
       "0           5329.03              21.0 2025-05-11 15:00:00+00:00\n",
       "1           5329.03               9.0 2025-05-11 15:00:00+00:00\n",
       "2           5788.13              35.0 2025-05-11 15:00:00+00:00\n",
       "3           5788.13              33.0 2025-05-11 15:00:00+00:00\n",
       "4           5905.14              35.0 2025-05-11 15:00:00+00:00\n",
       "5           5905.14              25.0 2025-05-11 15:00:00+00:00\n",
       "6           5905.14              31.0 2025-05-11 15:00:00+00:00\n",
       "7           5905.14              22.0 2025-05-11 15:00:00+00:00\n",
       "8           5905.14              23.0 2025-05-11 15:00:00+00:00\n",
       "9           5905.14              21.0 2025-05-11 15:00:00+00:00\n",
       "10          5905.14              24.0 2025-05-11 15:00:00+00:00\n",
       "11          5905.14              28.0 2025-05-11 15:00:00+00:00\n",
       "12          5905.14              17.0 2025-05-11 15:00:00+00:00\n",
       "13          5905.14               9.0 2025-05-11 15:00:00+00:00\n",
       "14          5905.14               1.0 2025-05-11 15:00:00+00:00\n",
       "15          5905.14               1.0 2025-05-11 15:00:00+00:00\n",
       "16          5905.14               0.0 2025-05-11 15:00:00+00:00\n",
       "17          6140.05              40.0 2025-05-11 15:00:00+00:00\n",
       "18          6140.05              35.0 2025-05-11 15:00:00+00:00\n",
       "19          6140.05              35.0 2025-05-11 15:00:00+00:00\n",
       "20          6140.05              31.0 2025-05-11 15:00:00+00:00\n",
       "21          6140.05              30.0 2025-05-11 15:00:00+00:00\n",
       "22          6140.05              21.0 2025-05-11 15:00:00+00:00\n",
       "23          6140.05              24.0 2025-05-11 15:00:00+00:00\n",
       "24          6140.05              35.0 2025-05-11 15:00:00+00:00\n",
       "25          6140.05              15.0 2025-05-11 15:00:00+00:00\n",
       "26          6140.05              12.0 2025-05-11 15:00:00+00:00\n",
       "27          6140.05               3.0 2025-05-11 15:00:00+00:00\n",
       "28          6140.05               1.0 2025-05-11 15:00:00+00:00\n",
       "29          6140.05               1.0 2025-05-11 15:00:00+00:00"
      ]
     },
     "execution_count": 7,
     "metadata": {},
     "output_type": "execute_result"
    }
   ],
   "source": [
    "predictions[\"hour\"] = current_date.ceil('h')\n",
    "predictions"
   ]
  },
  {
   "cell_type": "code",
   "execution_count": 8,
   "id": "87baf04a",
   "metadata": {},
   "outputs": [
    {
     "name": "stdout",
     "output_type": "stream",
     "text": [
      "2025-05-11 10:35:15,857 INFO: Closing external client and cleaning up certificates.\n",
      "Connection closed.\n",
      "2025-05-11 10:35:15,863 INFO: Initializing external client\n",
      "2025-05-11 10:35:15,863 INFO: Base URL: https://c.app.hopsworks.ai:443\n",
      "2025-05-11 10:35:16,381 INFO: Python Engine initialized.\n",
      "\n",
      "Logged in to project, explore it here https://c.app.hopsworks.ai:443/p/1231009\n"
     ]
    }
   ],
   "source": [
    "from src.inference import get_feature_store\n",
    "\n",
    "feature_group = get_feature_store().get_or_create_feature_group(\n",
    "    name=config.FEATURE_GROUP_MODEL_PREDICTION,\n",
    "    version=1,\n",
    "    description=\"Predictions from LGBM Model\",\n",
    "    primary_key=[\"start_station_id\", \"hour\"],\n",
    "    event_time=\"hour\",\n",
    ")"
   ]
  },
  {
   "cell_type": "code",
   "execution_count": 9,
   "id": "bdb1d618",
   "metadata": {},
   "outputs": [
    {
     "name": "stderr",
     "output_type": "stream",
     "text": [
      "Uploading Dataframe: 100.00% |██████████| Rows 30/30 | Elapsed Time: 00:00 | Remaining Time: 00:00\n"
     ]
    },
    {
     "name": "stdout",
     "output_type": "stream",
     "text": [
      "Launching job: citi_bike_hourly_model_prediction_1_offline_fg_materialization\n",
      "Job started successfully, you can follow the progress at \n",
      "https://c.app.hopsworks.ai:443/p/1231009/jobs/named/citi_bike_hourly_model_prediction_1_offline_fg_materialization/executions\n"
     ]
    },
    {
     "data": {
      "text/plain": [
       "(Job('citi_bike_hourly_model_prediction_1_offline_fg_materialization', 'SPARK'),\n",
       " None)"
      ]
     },
     "execution_count": 9,
     "metadata": {},
     "output_type": "execute_result"
    }
   ],
   "source": [
    "feature_group.insert(predictions, write_options={\"wait_for_job\": False})"
   ]
  }
 ],
 "metadata": {
  "kernelspec": {
   "display_name": "test_env",
   "language": "python",
   "name": "python3"
  },
  "language_info": {
   "codemirror_mode": {
    "name": "ipython",
    "version": 3
   },
   "file_extension": ".py",
   "mimetype": "text/x-python",
   "name": "python",
   "nbconvert_exporter": "python",
   "pygments_lexer": "ipython3",
   "version": "3.11.11"
  }
 },
 "nbformat": 4,
 "nbformat_minor": 5
}
