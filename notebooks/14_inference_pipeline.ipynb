{
 "cells": [
  {
   "cell_type": "code",
   "execution_count": 10,
   "id": "e36aa909",
   "metadata": {},
   "outputs": [
    {
     "name": "stdout",
     "output_type": "stream",
     "text": [
      "The autoreload extension is already loaded. To reload it, use:\n",
      "  %reload_ext autoreload\n"
     ]
    }
   ],
   "source": [
    "%load_ext autoreload\n",
    "%autoreload 2"
   ]
  },
  {
   "cell_type": "code",
   "execution_count": 11,
   "id": "6f5f9be8",
   "metadata": {},
   "outputs": [],
   "source": [
    "# Show all output for a cell\n",
    "from IPython.core.interactiveshell import InteractiveShell\n",
    "InteractiveShell.ast_node_interactivity = \"all\""
   ]
  },
  {
   "cell_type": "code",
   "execution_count": 12,
   "id": "55e75486",
   "metadata": {},
   "outputs": [],
   "source": [
    "import sys\n",
    "import os\n",
    "\n",
    "# Add the parent directory to the Python path\n",
    "sys.path.append(os.path.abspath(os.path.join(os.getcwd(), \"..\")))\n",
    "import src.config as config"
   ]
  },
  {
   "cell_type": "code",
   "execution_count": 13,
   "id": "0108d022",
   "metadata": {},
   "outputs": [
    {
     "name": "stdout",
     "output_type": "stream",
     "text": [
      "2025-05-11 12:13:52,265 INFO: Closing external client and cleaning up certificates.\n",
      "Connection closed.\n",
      "2025-05-11 12:13:52,285 INFO: Initializing external client\n",
      "2025-05-11 12:13:52,286 INFO: Base URL: https://c.app.hopsworks.ai:443\n",
      "2025-05-11 12:13:52,850 INFO: Python Engine initialized.\n",
      "\n",
      "Logged in to project, explore it here https://c.app.hopsworks.ai:443/p/1231009\n",
      "Fetching data from 2025-04-01 16:13:52.264905+00:00 to 2025-05-11 15:13:52.264905+00:00\n",
      "Finished: Reading data from Hopsworks, using Hopsworks Feature Query Service (7.81s) \n"
     ]
    }
   ],
   "source": [
    "from src.inference import get_feature_store\n",
    "from datetime import datetime, timedelta\n",
    "import pandas as pd\n",
    "\n",
    "# Get the current datetime in UTC\n",
    "current_date = pd.Timestamp.now(tz='Etc/UTC')\n",
    "feature_store = get_feature_store()\n",
    "\n",
    "# Define the 28-day batch window\n",
    "fetch_data_to = current_date - timedelta(hours=1)\n",
    "fetch_data_from = current_date - timedelta(days=40)\n",
    "print(f\"Fetching data from {fetch_data_from} to {fetch_data_to}\")\n",
    "\n",
    "# Load the feature view\n",
    "feature_view = feature_store.get_feature_view(\n",
    "    name=config.FEATURE_VIEW_NAME,\n",
    "    version=config.FEATURE_VIEW_VERSION\n",
    ")\n",
    "\n",
    "# Fetch the full time range (+1 day buffer on both sides)\n",
    "ts_data = feature_view.get_batch_data(\n",
    "    start_time=(fetch_data_from - timedelta(days=1)),\n",
    "    end_time=(fetch_data_to + timedelta(days=1)),\n",
    ")\n",
    "\n",
    "# Filter strictly within the range, localize to naive timestamps\n",
    "ts_data = ts_data[ts_data[\"hour\"].between(fetch_data_from, fetch_data_to)]\n",
    "ts_data = ts_data.sort_values([\"start_station_id\", \"hour\"]).reset_index(drop=True)\n",
    "ts_data[\"hour\"] = ts_data[\"hour\"].dt.tz_localize(None)\n",
    "\n",
    "# Transform to sliding window features\n",
    "from src.data_utils import transform_ts_data_into_features\n",
    "features = transform_ts_data_into_features(\n",
    "    ts_data, window_size=24*28, step_size=23\n",
    ")"
   ]
  },
  {
   "cell_type": "code",
   "execution_count": 14,
   "id": "1c135d15",
   "metadata": {},
   "outputs": [
    {
     "name": "stdout",
     "output_type": "stream",
     "text": [
      "2025-05-11 12:17:32,613 INFO: Closing external client and cleaning up certificates.\n",
      "Connection closed.\n",
      "2025-05-11 12:17:32,620 INFO: Initializing external client\n",
      "2025-05-11 12:17:32,620 INFO: Base URL: https://c.app.hopsworks.ai:443\n",
      "2025-05-11 12:17:33,146 INFO: Python Engine initialized.\n",
      "\n",
      "Logged in to project, explore it here https://c.app.hopsworks.ai:443/p/1231009\n"
     ]
    },
    {
     "data": {
      "application/vnd.jupyter.widget-view+json": {
       "model_id": "4e92ba07ec25423fbf6a7bc644f6fa38",
       "version_major": 2,
       "version_minor": 0
      },
      "text/plain": [
       "Downloading: 0.000%|          | 0/325454 elapsed<00:00 remaining<?"
      ]
     },
     "metadata": {},
     "output_type": "display_data"
    },
    {
     "name": "stdout",
     "output_type": "stream",
     "text": [
      "Downloading model artifact (0 dirs, 1 files)... DONE\r"
     ]
    }
   ],
   "source": [
    "from src.inference import load_model_from_registry\n",
    "\n",
    "model = load_model_from_registry()"
   ]
  },
  {
   "cell_type": "code",
   "execution_count": 15,
   "id": "c956593a",
   "metadata": {},
   "outputs": [],
   "source": [
    "from src.inference import get_model_predictions\n",
    "predictions = get_model_predictions(model, features)"
   ]
  },
  {
   "cell_type": "code",
   "execution_count": 16,
   "id": "999ecc2c",
   "metadata": {},
   "outputs": [
    {
     "data": {
      "text/html": [
       "<div>\n",
       "<style scoped>\n",
       "    .dataframe tbody tr th:only-of-type {\n",
       "        vertical-align: middle;\n",
       "    }\n",
       "\n",
       "    .dataframe tbody tr th {\n",
       "        vertical-align: top;\n",
       "    }\n",
       "\n",
       "    .dataframe thead th {\n",
       "        text-align: right;\n",
       "    }\n",
       "</style>\n",
       "<table border=\"1\" class=\"dataframe\">\n",
       "  <thead>\n",
       "    <tr style=\"text-align: right;\">\n",
       "      <th></th>\n",
       "      <th>start_station_id</th>\n",
       "      <th>predicted_demand</th>\n",
       "      <th>hour</th>\n",
       "    </tr>\n",
       "  </thead>\n",
       "  <tbody>\n",
       "    <tr>\n",
       "      <th>0</th>\n",
       "      <td>2733.03</td>\n",
       "      <td>1.0</td>\n",
       "      <td>2025-05-11 17:00:00+00:00</td>\n",
       "    </tr>\n",
       "    <tr>\n",
       "      <th>1</th>\n",
       "      <td>2733.03</td>\n",
       "      <td>2.0</td>\n",
       "      <td>2025-05-11 17:00:00+00:00</td>\n",
       "    </tr>\n",
       "    <tr>\n",
       "      <th>2</th>\n",
       "      <td>2782.02</td>\n",
       "      <td>2.0</td>\n",
       "      <td>2025-05-11 17:00:00+00:00</td>\n",
       "    </tr>\n",
       "    <tr>\n",
       "      <th>3</th>\n",
       "      <td>2782.02</td>\n",
       "      <td>2.0</td>\n",
       "      <td>2025-05-11 17:00:00+00:00</td>\n",
       "    </tr>\n",
       "    <tr>\n",
       "      <th>4</th>\n",
       "      <td>2821.05</td>\n",
       "      <td>2.0</td>\n",
       "      <td>2025-05-11 17:00:00+00:00</td>\n",
       "    </tr>\n",
       "    <tr>\n",
       "      <th>...</th>\n",
       "      <td>...</td>\n",
       "      <td>...</td>\n",
       "      <td>...</td>\n",
       "    </tr>\n",
       "    <tr>\n",
       "      <th>4484</th>\n",
       "      <td>SYS016</td>\n",
       "      <td>1.0</td>\n",
       "      <td>2025-05-11 17:00:00+00:00</td>\n",
       "    </tr>\n",
       "    <tr>\n",
       "      <th>4485</th>\n",
       "      <td>SYS033</td>\n",
       "      <td>1.0</td>\n",
       "      <td>2025-05-11 17:00:00+00:00</td>\n",
       "    </tr>\n",
       "    <tr>\n",
       "      <th>4486</th>\n",
       "      <td>SYS033</td>\n",
       "      <td>1.0</td>\n",
       "      <td>2025-05-11 17:00:00+00:00</td>\n",
       "    </tr>\n",
       "    <tr>\n",
       "      <th>4487</th>\n",
       "      <td>SYS038</td>\n",
       "      <td>1.0</td>\n",
       "      <td>2025-05-11 17:00:00+00:00</td>\n",
       "    </tr>\n",
       "    <tr>\n",
       "      <th>4488</th>\n",
       "      <td>SYS038</td>\n",
       "      <td>2.0</td>\n",
       "      <td>2025-05-11 17:00:00+00:00</td>\n",
       "    </tr>\n",
       "  </tbody>\n",
       "</table>\n",
       "<p>4489 rows × 3 columns</p>\n",
       "</div>"
      ],
      "text/plain": [
       "     start_station_id  predicted_demand                      hour\n",
       "0             2733.03               1.0 2025-05-11 17:00:00+00:00\n",
       "1             2733.03               2.0 2025-05-11 17:00:00+00:00\n",
       "2             2782.02               2.0 2025-05-11 17:00:00+00:00\n",
       "3             2782.02               2.0 2025-05-11 17:00:00+00:00\n",
       "4             2821.05               2.0 2025-05-11 17:00:00+00:00\n",
       "...               ...               ...                       ...\n",
       "4484           SYS016               1.0 2025-05-11 17:00:00+00:00\n",
       "4485           SYS033               1.0 2025-05-11 17:00:00+00:00\n",
       "4486           SYS033               1.0 2025-05-11 17:00:00+00:00\n",
       "4487           SYS038               1.0 2025-05-11 17:00:00+00:00\n",
       "4488           SYS038               2.0 2025-05-11 17:00:00+00:00\n",
       "\n",
       "[4489 rows x 3 columns]"
      ]
     },
     "execution_count": 16,
     "metadata": {},
     "output_type": "execute_result"
    }
   ],
   "source": [
    "predictions[\"hour\"] = current_date.ceil('h')\n",
    "predictions"
   ]
  },
  {
   "cell_type": "code",
   "execution_count": 17,
   "id": "87baf04a",
   "metadata": {},
   "outputs": [
    {
     "name": "stdout",
     "output_type": "stream",
     "text": [
      "2025-05-11 12:17:35,372 INFO: Closing external client and cleaning up certificates.\n",
      "Connection closed.\n",
      "2025-05-11 12:17:35,377 INFO: Initializing external client\n",
      "2025-05-11 12:17:35,377 INFO: Base URL: https://c.app.hopsworks.ai:443\n",
      "2025-05-11 12:17:36,046 INFO: Python Engine initialized.\n",
      "\n",
      "Logged in to project, explore it here https://c.app.hopsworks.ai:443/p/1231009\n"
     ]
    }
   ],
   "source": [
    "from src.inference import get_feature_store\n",
    "\n",
    "feature_group = get_feature_store().get_or_create_feature_group(\n",
    "    name=config.FEATURE_GROUP_MODEL_PREDICTION,\n",
    "    version=1,\n",
    "    description=\"Predictions from LGBM Model\",\n",
    "    primary_key=[\"start_station_id\", \"hour\"],\n",
    "    event_time=\"hour\",\n",
    ")"
   ]
  },
  {
   "cell_type": "code",
   "execution_count": 18,
   "id": "bdb1d618",
   "metadata": {},
   "outputs": [
    {
     "name": "stderr",
     "output_type": "stream",
     "text": [
      "Uploading Dataframe: 100.00% |██████████| Rows 4489/4489 | Elapsed Time: 00:00 | Remaining Time: 00:00\n"
     ]
    },
    {
     "name": "stdout",
     "output_type": "stream",
     "text": [
      "Launching job: citi_bike_hourly_model_prediction_1_offline_fg_materialization\n",
      "Job started successfully, you can follow the progress at \n",
      "https://c.app.hopsworks.ai:443/p/1231009/jobs/named/citi_bike_hourly_model_prediction_1_offline_fg_materialization/executions\n"
     ]
    },
    {
     "data": {
      "text/plain": [
       "(Job('citi_bike_hourly_model_prediction_1_offline_fg_materialization', 'SPARK'),\n",
       " None)"
      ]
     },
     "execution_count": 18,
     "metadata": {},
     "output_type": "execute_result"
    }
   ],
   "source": [
    "feature_group.insert(predictions, write_options={\"wait_for_job\": False})"
   ]
  }
 ],
 "metadata": {
  "kernelspec": {
   "display_name": "test_env",
   "language": "python",
   "name": "python3"
  },
  "language_info": {
   "codemirror_mode": {
    "name": "ipython",
    "version": 3
   },
   "file_extension": ".py",
   "mimetype": "text/x-python",
   "name": "python",
   "nbconvert_exporter": "python",
   "pygments_lexer": "ipython3",
   "version": "3.11.11"
  }
 },
 "nbformat": 4,
 "nbformat_minor": 5
}
