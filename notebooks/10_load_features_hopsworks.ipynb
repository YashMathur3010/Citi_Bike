{
 "cells": [
  {
   "cell_type": "code",
   "execution_count": 52,
   "id": "26964030",
   "metadata": {},
   "outputs": [
    {
     "data": {
      "text/plain": [
       "True"
      ]
     },
     "execution_count": 52,
     "metadata": {},
     "output_type": "execute_result"
    }
   ],
   "source": [
    "from dotenv import load_dotenv\n",
    "import os\n",
    "load_dotenv()"
   ]
  },
  {
   "cell_type": "code",
   "execution_count": 53,
   "id": "a9f80e99",
   "metadata": {},
   "outputs": [],
   "source": [
    "import sys\n",
    "import os\n",
    "\n",
    "# Add the parent directory to the Python path\n",
    "sys.path.append(os.path.abspath(os.path.join(os.getcwd(), \"..\")))"
   ]
  },
  {
   "cell_type": "code",
   "execution_count": 54,
   "id": "973ac3e0",
   "metadata": {},
   "outputs": [
    {
     "name": "stdout",
     "output_type": "stream",
     "text": [
      "Download raw data from 2024 to 2025\n",
      "📁 File already exists: citi_bike_rides_raw_2024_01.parquet\n",
      "📖 Loading data from: citi_bike_rides_raw_2024_01.parquet\n",
      "🔍 Filtering data for 2024-01...\n",
      "✅ Saved filtered data to: /Users/yashmathur/Documents/MS_DS/Python_Spring_25/CDA_500/Test_Final/data/processed/citi_bike_rides_processed_2024_01.parquet\n",
      "✅ Successfully combined all filtered months.\n",
      "📁 File already exists: citi_bike_rides_raw_2024_02.parquet\n",
      "📖 Loading data from: citi_bike_rides_raw_2024_02.parquet\n",
      "🔍 Filtering data for 2024-02...\n",
      "✅ Saved filtered data to: /Users/yashmathur/Documents/MS_DS/Python_Spring_25/CDA_500/Test_Final/data/processed/citi_bike_rides_processed_2024_02.parquet\n",
      "✅ Successfully combined all filtered months.\n",
      "📁 File already exists: citi_bike_rides_raw_2024_03.parquet\n",
      "📖 Loading data from: citi_bike_rides_raw_2024_03.parquet\n",
      "🔍 Filtering data for 2024-03...\n",
      "✅ Saved filtered data to: /Users/yashmathur/Documents/MS_DS/Python_Spring_25/CDA_500/Test_Final/data/processed/citi_bike_rides_processed_2024_03.parquet\n",
      "✅ Successfully combined all filtered months.\n",
      "📁 File already exists: citi_bike_rides_raw_2024_04.parquet\n",
      "📖 Loading data from: citi_bike_rides_raw_2024_04.parquet\n",
      "🔍 Filtering data for 2024-04...\n",
      "✅ Saved filtered data to: /Users/yashmathur/Documents/MS_DS/Python_Spring_25/CDA_500/Test_Final/data/processed/citi_bike_rides_processed_2024_04.parquet\n",
      "✅ Successfully combined all filtered months.\n",
      "📁 File already exists: citi_bike_rides_raw_2024_05.parquet\n",
      "📖 Loading data from: citi_bike_rides_raw_2024_05.parquet\n",
      "🔍 Filtering data for 2024-05...\n",
      "✅ Saved filtered data to: /Users/yashmathur/Documents/MS_DS/Python_Spring_25/CDA_500/Test_Final/data/processed/citi_bike_rides_processed_2024_05.parquet\n",
      "✅ Successfully combined all filtered months.\n",
      "📁 File already exists: citi_bike_rides_raw_2024_06.parquet\n",
      "📖 Loading data from: citi_bike_rides_raw_2024_06.parquet\n",
      "🔍 Filtering data for 2024-06...\n",
      "✅ Saved filtered data to: /Users/yashmathur/Documents/MS_DS/Python_Spring_25/CDA_500/Test_Final/data/processed/citi_bike_rides_processed_2024_06.parquet\n",
      "✅ Successfully combined all filtered months.\n",
      "📁 File already exists: citi_bike_rides_raw_2024_07.parquet\n",
      "📖 Loading data from: citi_bike_rides_raw_2024_07.parquet\n",
      "🔍 Filtering data for 2024-07...\n",
      "✅ Saved filtered data to: /Users/yashmathur/Documents/MS_DS/Python_Spring_25/CDA_500/Test_Final/data/processed/citi_bike_rides_processed_2024_07.parquet\n",
      "✅ Successfully combined all filtered months.\n",
      "📁 File already exists: citi_bike_rides_raw_2024_08.parquet\n",
      "📖 Loading data from: citi_bike_rides_raw_2024_08.parquet\n",
      "🔍 Filtering data for 2024-08...\n",
      "✅ Saved filtered data to: /Users/yashmathur/Documents/MS_DS/Python_Spring_25/CDA_500/Test_Final/data/processed/citi_bike_rides_processed_2024_08.parquet\n",
      "✅ Successfully combined all filtered months.\n",
      "📁 File already exists: citi_bike_rides_raw_2024_09.parquet\n",
      "📖 Loading data from: citi_bike_rides_raw_2024_09.parquet\n",
      "🔍 Filtering data for 2024-09...\n",
      "✅ Saved filtered data to: /Users/yashmathur/Documents/MS_DS/Python_Spring_25/CDA_500/Test_Final/data/processed/citi_bike_rides_processed_2024_09.parquet\n",
      "✅ Successfully combined all filtered months.\n",
      "📁 File already exists: citi_bike_rides_raw_2024_10.parquet\n",
      "📖 Loading data from: citi_bike_rides_raw_2024_10.parquet\n",
      "🔍 Filtering data for 2024-10...\n",
      "✅ Saved filtered data to: /Users/yashmathur/Documents/MS_DS/Python_Spring_25/CDA_500/Test_Final/data/processed/citi_bike_rides_processed_2024_10.parquet\n",
      "✅ Successfully combined all filtered months.\n",
      "📁 File already exists: citi_bike_rides_raw_2024_11.parquet\n",
      "📖 Loading data from: citi_bike_rides_raw_2024_11.parquet\n",
      "🔍 Filtering data for 2024-11...\n",
      "✅ Saved filtered data to: /Users/yashmathur/Documents/MS_DS/Python_Spring_25/CDA_500/Test_Final/data/processed/citi_bike_rides_processed_2024_11.parquet\n",
      "✅ Successfully combined all filtered months.\n",
      "📁 File already exists: citi_bike_rides_raw_2024_12.parquet\n",
      "📖 Loading data from: citi_bike_rides_raw_2024_12.parquet\n",
      "🔍 Filtering data for 2024-12...\n",
      "✅ Saved filtered data to: /Users/yashmathur/Documents/MS_DS/Python_Spring_25/CDA_500/Test_Final/data/processed/citi_bike_rides_processed_2024_12.parquet\n",
      "✅ Successfully combined all filtered months.\n",
      "📁 File already exists: citi_bike_rides_raw_2025_01.parquet\n",
      "📖 Loading data from: citi_bike_rides_raw_2025_01.parquet\n",
      "🔍 Filtering data for 2025-01...\n",
      "✅ Saved filtered data to: /Users/yashmathur/Documents/MS_DS/Python_Spring_25/CDA_500/Test_Final/data/processed/citi_bike_rides_processed_2025_01.parquet\n",
      "✅ Successfully combined all filtered months.\n",
      "📁 File already exists: citi_bike_rides_raw_2025_02.parquet\n",
      "📖 Loading data from: citi_bike_rides_raw_2025_02.parquet\n",
      "🔍 Filtering data for 2025-02...\n",
      "✅ Saved filtered data to: /Users/yashmathur/Documents/MS_DS/Python_Spring_25/CDA_500/Test_Final/data/processed/citi_bike_rides_processed_2025_02.parquet\n",
      "✅ Successfully combined all filtered months.\n",
      "📁 File already exists: citi_bike_rides_raw_2025_03.parquet\n",
      "📖 Loading data from: citi_bike_rides_raw_2025_03.parquet\n",
      "🔍 Filtering data for 2025-03...\n",
      "✅ Saved filtered data to: /Users/yashmathur/Documents/MS_DS/Python_Spring_25/CDA_500/Test_Final/data/processed/citi_bike_rides_processed_2025_03.parquet\n",
      "✅ Successfully combined all filtered months.\n",
      "📁 File already exists: citi_bike_rides_raw_2025_04.parquet\n",
      "📖 Loading data from: citi_bike_rides_raw_2025_04.parquet\n",
      "🔍 Filtering data for 2025-04...\n",
      "✅ Saved filtered data to: /Users/yashmathur/Documents/MS_DS/Python_Spring_25/CDA_500/Test_Final/data/processed/citi_bike_rides_processed_2025_04.parquet\n",
      "✅ Successfully combined all filtered months.\n",
      "⬇️ Downloading data for 2025-05...\n",
      "Trying to fetch: https://s3.amazonaws.com/tripdata/202505-citibike-tripdata.csv.zip\n",
      "❌ Failed to access: https://s3.amazonaws.com/tripdata/202505-citibike-tripdata.csv.zip\n",
      "Trying to fetch: https://s3.amazonaws.com/tripdata/202505-citibike-tripdata.zip\n",
      "❌ Failed to access: https://s3.amazonaws.com/tripdata/202505-citibike-tripdata.zip\n",
      "⚠️ Skipping 2025-05 due to error: No valid Citi Bike data found for 2025-05.\n",
      "Skipping 2025-05: No valid data loaded for 2025 and months [5]\n",
      "⬇️ Downloading data for 2025-06...\n",
      "Trying to fetch: https://s3.amazonaws.com/tripdata/202506-citibike-tripdata.csv.zip\n",
      "❌ Failed to access: https://s3.amazonaws.com/tripdata/202506-citibike-tripdata.csv.zip\n",
      "Trying to fetch: https://s3.amazonaws.com/tripdata/202506-citibike-tripdata.zip\n",
      "❌ Failed to access: https://s3.amazonaws.com/tripdata/202506-citibike-tripdata.zip\n",
      "⚠️ Skipping 2025-06 due to error: No valid Citi Bike data found for 2025-06.\n",
      "Skipping 2025-06: No valid data loaded for 2025 and months [6]\n",
      "⬇️ Downloading data for 2025-07...\n",
      "Trying to fetch: https://s3.amazonaws.com/tripdata/202507-citibike-tripdata.csv.zip\n",
      "❌ Failed to access: https://s3.amazonaws.com/tripdata/202507-citibike-tripdata.csv.zip\n",
      "Trying to fetch: https://s3.amazonaws.com/tripdata/202507-citibike-tripdata.zip\n",
      "❌ Failed to access: https://s3.amazonaws.com/tripdata/202507-citibike-tripdata.zip\n",
      "⚠️ Skipping 2025-07 due to error: No valid Citi Bike data found for 2025-07.\n",
      "Skipping 2025-07: No valid data loaded for 2025 and months [7]\n",
      "⬇️ Downloading data for 2025-08...\n",
      "Trying to fetch: https://s3.amazonaws.com/tripdata/202508-citibike-tripdata.csv.zip\n",
      "❌ Failed to access: https://s3.amazonaws.com/tripdata/202508-citibike-tripdata.csv.zip\n",
      "Trying to fetch: https://s3.amazonaws.com/tripdata/202508-citibike-tripdata.zip\n",
      "❌ Failed to access: https://s3.amazonaws.com/tripdata/202508-citibike-tripdata.zip\n",
      "⚠️ Skipping 2025-08 due to error: No valid Citi Bike data found for 2025-08.\n",
      "Skipping 2025-08: No valid data loaded for 2025 and months [8]\n",
      "⬇️ Downloading data for 2025-09...\n",
      "Trying to fetch: https://s3.amazonaws.com/tripdata/202509-citibike-tripdata.csv.zip\n",
      "❌ Failed to access: https://s3.amazonaws.com/tripdata/202509-citibike-tripdata.csv.zip\n",
      "Trying to fetch: https://s3.amazonaws.com/tripdata/202509-citibike-tripdata.zip\n",
      "❌ Failed to access: https://s3.amazonaws.com/tripdata/202509-citibike-tripdata.zip\n",
      "⚠️ Skipping 2025-09 due to error: No valid Citi Bike data found for 2025-09.\n",
      "Skipping 2025-09: No valid data loaded for 2025 and months [9]\n",
      "⬇️ Downloading data for 2025-10...\n",
      "Trying to fetch: https://s3.amazonaws.com/tripdata/202510-citibike-tripdata.csv.zip\n",
      "❌ Failed to access: https://s3.amazonaws.com/tripdata/202510-citibike-tripdata.csv.zip\n",
      "Trying to fetch: https://s3.amazonaws.com/tripdata/202510-citibike-tripdata.zip\n",
      "❌ Failed to access: https://s3.amazonaws.com/tripdata/202510-citibike-tripdata.zip\n",
      "⚠️ Skipping 2025-10 due to error: No valid Citi Bike data found for 2025-10.\n",
      "Skipping 2025-10: No valid data loaded for 2025 and months [10]\n",
      "⬇️ Downloading data for 2025-11...\n",
      "Trying to fetch: https://s3.amazonaws.com/tripdata/202511-citibike-tripdata.csv.zip\n",
      "❌ Failed to access: https://s3.amazonaws.com/tripdata/202511-citibike-tripdata.csv.zip\n",
      "Trying to fetch: https://s3.amazonaws.com/tripdata/202511-citibike-tripdata.zip\n",
      "❌ Failed to access: https://s3.amazonaws.com/tripdata/202511-citibike-tripdata.zip\n",
      "⚠️ Skipping 2025-11 due to error: No valid Citi Bike data found for 2025-11.\n",
      "Skipping 2025-11: No valid data loaded for 2025 and months [11]\n",
      "⬇️ Downloading data for 2025-12...\n",
      "Trying to fetch: https://s3.amazonaws.com/tripdata/202512-citibike-tripdata.csv.zip\n",
      "❌ Failed to access: https://s3.amazonaws.com/tripdata/202512-citibike-tripdata.csv.zip\n",
      "Trying to fetch: https://s3.amazonaws.com/tripdata/202512-citibike-tripdata.zip\n",
      "❌ Failed to access: https://s3.amazonaws.com/tripdata/202512-citibike-tripdata.zip\n",
      "⚠️ Skipping 2025-12 due to error: No valid Citi Bike data found for 2025-12.\n",
      "Skipping 2025-12: No valid data loaded for 2025 and months [12]\n",
      "Data loading complete.\n"
     ]
    }
   ],
   "source": [
    "from datetime import datetime\n",
    "import pandas as pd\n",
    "from src.data_utils import load_and_process_citibike_data\n",
    "\n",
    "from_year = 2024\n",
    "# to_year = datetime.now().year\n",
    "to_year = 2025\n",
    "print(f\"Download raw data from {from_year} to {to_year}\")\n",
    "\n",
    "rides = pd.DataFrame()\n",
    "chunks = []\n",
    "# for year in range(from_year, to_year+1):\n",
    "\n",
    "#     rides_one_year = load_and_process_citibike_data(year)\n",
    "\n",
    "#     chunks.append(rides_one_year)\n",
    "#     #break\n",
    "\n",
    "for year in range(from_year, to_year+1):\n",
    "    for month in range(1, 13):\n",
    "        try:\n",
    "            rides_one_month = load_and_process_citibike_data(year, months=[month])\n",
    "            chunks.append(rides_one_month)\n",
    "        except Exception as e:\n",
    "            print(f\"Skipping {year}-{month:02}: {e}\")\n",
    "\n",
    "\n",
    "# Concatenate all chunks at the end\n",
    "rides = pd.concat(chunks, ignore_index=True)\n",
    "print(\"Data loading complete.\")"
   ]
  },
  {
   "cell_type": "code",
   "execution_count": 55,
   "id": "e111f301",
   "metadata": {},
   "outputs": [
    {
     "data": {
      "text/html": [
       "<div>\n",
       "<style scoped>\n",
       "    .dataframe tbody tr th:only-of-type {\n",
       "        vertical-align: middle;\n",
       "    }\n",
       "\n",
       "    .dataframe tbody tr th {\n",
       "        vertical-align: top;\n",
       "    }\n",
       "\n",
       "    .dataframe thead th {\n",
       "        text-align: right;\n",
       "    }\n",
       "</style>\n",
       "<table border=\"1\" class=\"dataframe\">\n",
       "  <thead>\n",
       "    <tr style=\"text-align: right;\">\n",
       "      <th></th>\n",
       "      <th>started_at</th>\n",
       "      <th>start_station_id</th>\n",
       "    </tr>\n",
       "  </thead>\n",
       "  <tbody>\n",
       "    <tr>\n",
       "      <th>0</th>\n",
       "      <td>2024-01-22 18:43:19.012</td>\n",
       "      <td>7954.12</td>\n",
       "    </tr>\n",
       "    <tr>\n",
       "      <th>1</th>\n",
       "      <td>2024-01-11 19:19:18.721</td>\n",
       "      <td>6771.13</td>\n",
       "    </tr>\n",
       "    <tr>\n",
       "      <th>2</th>\n",
       "      <td>2024-01-30 19:17:41.693</td>\n",
       "      <td>5659.11</td>\n",
       "    </tr>\n",
       "    <tr>\n",
       "      <th>3</th>\n",
       "      <td>2024-01-27 11:27:01.759</td>\n",
       "      <td>6771.13</td>\n",
       "    </tr>\n",
       "    <tr>\n",
       "      <th>4</th>\n",
       "      <td>2024-01-16 15:15:41.000</td>\n",
       "      <td>7443.01</td>\n",
       "    </tr>\n",
       "    <tr>\n",
       "      <th>...</th>\n",
       "      <td>...</td>\n",
       "      <td>...</td>\n",
       "    </tr>\n",
       "    <tr>\n",
       "      <th>55247947</th>\n",
       "      <td>2025-04-22 13:19:13.939</td>\n",
       "      <td>6072.11</td>\n",
       "    </tr>\n",
       "    <tr>\n",
       "      <th>55247948</th>\n",
       "      <td>2025-04-14 20:10:03.877</td>\n",
       "      <td>6098.1</td>\n",
       "    </tr>\n",
       "    <tr>\n",
       "      <th>55247949</th>\n",
       "      <td>2025-04-21 19:59:56.840</td>\n",
       "      <td>5779.08</td>\n",
       "    </tr>\n",
       "    <tr>\n",
       "      <th>55247950</th>\n",
       "      <td>2025-04-28 09:12:42.478</td>\n",
       "      <td>6072.11</td>\n",
       "    </tr>\n",
       "    <tr>\n",
       "      <th>55247951</th>\n",
       "      <td>2025-04-30 09:31:58.441</td>\n",
       "      <td>6072.11</td>\n",
       "    </tr>\n",
       "  </tbody>\n",
       "</table>\n",
       "<p>55247952 rows × 2 columns</p>\n",
       "</div>"
      ],
      "text/plain": [
       "                      started_at start_station_id\n",
       "0        2024-01-22 18:43:19.012          7954.12\n",
       "1        2024-01-11 19:19:18.721          6771.13\n",
       "2        2024-01-30 19:17:41.693          5659.11\n",
       "3        2024-01-27 11:27:01.759          6771.13\n",
       "4        2024-01-16 15:15:41.000          7443.01\n",
       "...                          ...              ...\n",
       "55247947 2025-04-22 13:19:13.939          6072.11\n",
       "55247948 2025-04-14 20:10:03.877           6098.1\n",
       "55247949 2025-04-21 19:59:56.840          5779.08\n",
       "55247950 2025-04-28 09:12:42.478          6072.11\n",
       "55247951 2025-04-30 09:31:58.441          6072.11\n",
       "\n",
       "[55247952 rows x 2 columns]"
      ]
     },
     "execution_count": 55,
     "metadata": {},
     "output_type": "execute_result"
    }
   ],
   "source": [
    "rides"
   ]
  },
  {
   "cell_type": "code",
   "execution_count": 56,
   "id": "f272de86",
   "metadata": {},
   "outputs": [
    {
     "data": {
      "text/plain": [
       "(55247952, 2)"
      ]
     },
     "execution_count": 56,
     "metadata": {},
     "output_type": "execute_result"
    }
   ],
   "source": [
    "rides.shape"
   ]
  },
  {
   "cell_type": "code",
   "execution_count": 57,
   "id": "8acde59d",
   "metadata": {},
   "outputs": [],
   "source": [
    "from src.data_utils import transform_raw_data_into_ts_data\n",
    "\n",
    "ts_data = transform_raw_data_into_ts_data(rides)"
   ]
  },
  {
   "cell_type": "code",
   "execution_count": 58,
   "id": "6a9d8cd7",
   "metadata": {},
   "outputs": [
    {
     "name": "stdout",
     "output_type": "stream",
     "text": [
      "<class 'pandas.core.frame.DataFrame'>\n",
      "RangeIndex: 34992 entries, 0 to 34991\n",
      "Data columns (total 3 columns):\n",
      " #   Column            Non-Null Count  Dtype         \n",
      "---  ------            --------------  -----         \n",
      " 0   hour              34992 non-null  datetime64[ns]\n",
      " 1   start_station_id  34992 non-null  object        \n",
      " 2   ride_count        34992 non-null  int64         \n",
      "dtypes: datetime64[ns](1), int64(1), object(1)\n",
      "memory usage: 820.3+ KB\n"
     ]
    }
   ],
   "source": [
    "ts_data.info()"
   ]
  },
  {
   "cell_type": "code",
   "execution_count": 59,
   "id": "c9da9f19",
   "metadata": {},
   "outputs": [
    {
     "name": "stdout",
     "output_type": "stream",
     "text": [
      "2025-05-11 12:03:47,195 INFO: Closing external client and cleaning up certificates.\n",
      "Connection closed.\n",
      "2025-05-11 12:03:47,224 INFO: Initializing external client\n",
      "2025-05-11 12:03:47,224 INFO: Base URL: https://c.app.hopsworks.ai:443\n",
      "2025-05-11 12:03:47,773 INFO: Python Engine initialized.\n",
      "\n",
      "Logged in to project, explore it here https://c.app.hopsworks.ai:443/p/1231009\n",
      "Successfully connected to Hopsworks project: Citi_Bike_3010\n"
     ]
    }
   ],
   "source": [
    "import hopsworks\n",
    "\n",
    "api_key = os.getenv('HOPSWORKS_API_KEY')  \n",
    "project_name = os.getenv('HOPSWORKS_PROJECT_NAME')  \n",
    "\n",
    "# pip install confluent-kafka\n",
    "# Initialize connection to Hopsworks  \n",
    "project = hopsworks.login(  \n",
    "    api_key_value=api_key,  \n",
    "    project=project_name  \n",
    ")  \n",
    "print(f\"Successfully connected to Hopsworks project: {project_name}\")"
   ]
  },
  {
   "cell_type": "code",
   "execution_count": 60,
   "id": "ac7e7815",
   "metadata": {},
   "outputs": [],
   "source": [
    "feature_store = project.get_feature_store()"
   ]
  },
  {
   "cell_type": "code",
   "execution_count": 61,
   "id": "fd1a2e77",
   "metadata": {},
   "outputs": [],
   "source": [
    "FEATURE_GROUP_NAME = \"citi_bike_time_series_hourly_feature_group\"\n",
    "FEATURE_GROUP_VERSION = 1"
   ]
  },
  {
   "cell_type": "code",
   "execution_count": 62,
   "id": "162e0208",
   "metadata": {},
   "outputs": [],
   "source": [
    "feature_group = feature_store.get_or_create_feature_group(\n",
    "    name=FEATURE_GROUP_NAME,\n",
    "    version=FEATURE_GROUP_VERSION,\n",
    "    description=\"Time series data at hourly freaquency\",\n",
    "    primary_key=[\"start_station_id\", \"hour\"],\n",
    "    event_time=\"hour\"\n",
    ")"
   ]
  },
  {
   "cell_type": "code",
   "execution_count": 63,
   "id": "af4a60f5",
   "metadata": {},
   "outputs": [
    {
     "name": "stderr",
     "output_type": "stream",
     "text": [
      "Uploading Dataframe: 100.00% |██████████| Rows 34992/34992 | Elapsed Time: 00:03 | Remaining Time: 00:00\n"
     ]
    },
    {
     "name": "stdout",
     "output_type": "stream",
     "text": [
      "Launching job: citi_bike_time_series_hourly_feature_group_1_offline_fg_materialization\n",
      "Job started successfully, you can follow the progress at \n",
      "https://c.app.hopsworks.ai:443/p/1231009/jobs/named/citi_bike_time_series_hourly_feature_group_1_offline_fg_materialization/executions\n"
     ]
    },
    {
     "data": {
      "text/plain": [
       "(Job('citi_bike_time_series_hourly_feature_group_1_offline_fg_materialization', 'SPARK'),\n",
       " None)"
      ]
     },
     "execution_count": 63,
     "metadata": {},
     "output_type": "execute_result"
    }
   ],
   "source": [
    "feature_group.insert(ts_data, write_options={\"wait_for_job\": False})"
   ]
  }
 ],
 "metadata": {
  "kernelspec": {
   "display_name": "test_env",
   "language": "python",
   "name": "python3"
  },
  "language_info": {
   "codemirror_mode": {
    "name": "ipython",
    "version": 3
   },
   "file_extension": ".py",
   "mimetype": "text/x-python",
   "name": "python",
   "nbconvert_exporter": "python",
   "pygments_lexer": "ipython3",
   "version": "3.11.11"
  }
 },
 "nbformat": 4,
 "nbformat_minor": 5
}
